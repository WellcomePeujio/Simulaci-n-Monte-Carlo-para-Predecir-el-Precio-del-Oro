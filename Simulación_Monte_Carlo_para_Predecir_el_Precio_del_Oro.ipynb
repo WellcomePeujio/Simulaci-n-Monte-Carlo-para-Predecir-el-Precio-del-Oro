{
  "nbformat": 4,
  "nbformat_minor": 0,
  "metadata": {
    "colab": {
      "private_outputs": true,
      "provenance": [],
      "authorship_tag": "ABX9TyNn2qwSWNa5UBohWt3qQDSQ",
      "include_colab_link": true
    },
    "kernelspec": {
      "name": "python3",
      "display_name": "Python 3"
    },
    "language_info": {
      "name": "python"
    }
  },
  "cells": [
    {
      "cell_type": "markdown",
      "metadata": {
        "id": "view-in-github",
        "colab_type": "text"
      },
      "source": [
        "<a href=\"https://colab.research.google.com/github/WellcomePeujio/Simulaci-n-Monte-Carlo-para-Predecir-el-Precio-del-Oro/blob/main/Simulaci%C3%B3n_Monte_Carlo_para_Predecir_el_Precio_del_Oro.ipynb\" target=\"_parent\"><img src=\"https://colab.research.google.com/assets/colab-badge.svg\" alt=\"Open In Colab\"/></a>"
      ]
    },
    {
      "cell_type": "markdown",
      "source": [
        "# Simulación Monte Carlo para Predecir el Precio del Oro\n",
        "\n",
        "**Título**: \"¿A qué precio llegará el oro?\"\n",
        "\n",
        "**Problema**: El precio del oro actualmente es de **$1,800** por onza, con las siguientes características:\n",
        "\n",
        "- **Crecimiento promedio anual**: 3%  \n",
        "- **Volatilidad anual**: 15%  \n",
        "\n",
        "Se requiere simular el precio del oro en los próximos **12 meses** utilizando **1,000 simulaciones**.\n",
        "\n",
        "**Visualización**:  \n",
        "Genera un gráfico con las diferentes trayectorias simuladas del precio del oro en un año.\n"
      ],
      "metadata": {
        "id": "pOG6DiuEO35m"
      }
    },
    {
      "cell_type": "markdown",
      "source": [
        "# Resolución de la Simulación Monte Carlo para Predecir el Precio del Oro\n",
        "\n",
        "## Paso 1: Modelo de Movimiento Geométrico Browniano\n",
        "\n",
        "Para simular la evolución del precio del oro, utilizamos el **modelo de movimiento geométrico browniano (GBM)**, que se describe con la siguiente ecuación diferencial estocástica:\n",
        "\n",
        "$$\n",
        "dS_t = \\mu S_t dt + \\sigma S_t dW_t\n",
        "$$\n",
        "\n",
        "Donde:\n",
        "- $S_t$ es el precio del activo en el tiempo $t$.\n",
        "- $\\mu$ es la tasa de crecimiento esperada (3% anual).\n",
        "- $\\sigma$ es la volatilidad anual (15%).\n",
        "- $dW_t$ representa un proceso de Wiener (movimiento browniano estándar).\n",
        "\n",
        "Para discretizar esta ecuación y aplicarla en simulaciones numéricas, usamos la siguiente aproximación:\n",
        "\n",
        "$$\n",
        "S_{t+1} = S_t \\cdot e^{\\left(\\mu - \\frac{\\sigma^2}{2} \\right) \\Delta t + \\sigma \\sqrt{\\Delta t} \\cdot Z}\n",
        "$$\n",
        "\n",
        "Donde:\n",
        "- $\\Delta t$ es el intervalo de tiempo en años (en este caso, $\\Delta t = 1/12$ porque usamos meses).\n",
        "- $Z$ es una variable aleatoria con distribución normal estándar: $Z \\sim N(0,1)$.\n",
        "\n",
        "---\n",
        "\n",
        "## Paso 2: Parámetros del Problema\n",
        "\n",
        "Dado que queremos simular el precio del oro durante **12 meses**, tenemos:\n",
        "\n",
        "- **Precio inicial**: $S_0 = 1800$\n",
        "- **Tasa de crecimiento anual**: $\\mu = 0.03$\n",
        "- **Volatilidad anual**: $\\sigma = 0.15$\n",
        "- **Tiempo total**: 1 año\n",
        "- **Número de pasos**: 12 (uno por mes)\n",
        "- **Número de simulaciones**: 1,000\n",
        "\n",
        "---\n",
        "\n",
        "## Paso 3: Cálculo Matemático\n",
        "\n",
        "1. Generamos **1,000 trayectorias** del precio del oro durante 12 meses.\n",
        "2. Para cada simulación, aplicamos la ecuación de GBM mes a mes.\n",
        "3. Calculamos la **distribución final de los precios simulados** para estimar posibles escenarios futuros.\n",
        "\n",
        "La simulación nos permitirá responder preguntas como:\n",
        "- ¿Cuál es el precio promedio esperado después de un año?\n",
        "- ¿En qué rango podrían fluctuar los precios del oro?\n",
        "- ¿Cuáles son los escenarios más optimistas y pesimistas?\n",
        "\n",
        "Estos cálculos nos ayudan a visualizar la incertidumbre en la evolución del precio del oro.\n"
      ],
      "metadata": {
        "id": "oj1lqsNoO58E"
      }
    },
    {
      "cell_type": "code",
      "source": [
        "import numpy as np\n",
        "import matplotlib.pyplot as plt\n",
        "\n",
        "# Parámetros del problema\n",
        "S0 = 1800  # Precio inicial del oro ($ por onza)\n",
        "mu = 0.03  # Crecimiento promedio anual (3%)\n",
        "sigma = 0.15  # Volatilidad anual (15%)\n",
        "T = 1  # Tiempo en años (12 meses)\n",
        "N = 12  # Número de pasos (mensual)\n",
        "M = 1000  # Número de simulaciones\n",
        "dt = T / N  # Tamaño del paso de tiempo\n",
        "\n",
        "# Simulación Monte Carlo\n",
        "np.random.seed(42)  # Fijar semilla para reproducibilidad\n",
        "precios = np.zeros((N + 1, M))\n",
        "precios[0] = S0\n",
        "\n",
        "for t in range(1, N + 1):\n",
        "    Z = np.random.normal(0, 1, M)  # Números aleatorios estándar normales\n",
        "    precios[t] = precios[t - 1] * np.exp((mu - 0.5 * sigma**2) * dt + sigma * np.sqrt(dt) * Z)\n",
        "\n",
        "# Gráfica de simulaciones\n",
        "plt.figure(figsize=(12, 6))\n",
        "plt.plot(precios, color=\"blue\", alpha=0.2)  # Líneas de simulación con transparencia\n",
        "plt.plot(np.mean(precios, axis=1), color=\"red\", linewidth=2, label=\"Promedio de Simulación\")\n",
        "plt.xlabel(\"Meses\")\n",
        "plt.ylabel(\"Precio del Oro ($)\")\n",
        "plt.title(\"Simulación Monte Carlo del Precio del Oro en los Próximos 12 Meses\")\n",
        "plt.legend()\n",
        "plt.grid(True)\n",
        "plt.show()"
      ],
      "metadata": {
        "id": "ea458JxxPO9X"
      },
      "execution_count": null,
      "outputs": []
    }
  ]
}